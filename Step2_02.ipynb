{
 "cells": [
  {
   "cell_type": "markdown",
   "metadata": {},
   "source": [
    "# Step2 演習02 手書き数字画像を使った多クラス分類\n",
    "---"
   ]
  },
  {
   "cell_type": "markdown",
   "metadata": {},
   "source": [
    "本演習では、機械学習界の Hello World 手書き数字の画像データMNISTを利用し、多クラス分類を行うニューラルネットワークのモデルの構築を行います。\n",
    "\n",
    "画像を使った本格的なニューラルネットワークのモデルの構築に取り組みます。\n",
    "\n",
    "**はじめに**\n",
    "- for文やwhile文の利用は明示的な利用指示がない場所での利用は避けてください。\n",
    "\n",
    "**本演習の目的**\n",
    "- 画像データを使ったモデルの学習を行う。\n",
    "- 手書き数字0から9の10クラスのMNISTのデータセットを利用し、多クラス分類を行う。\n",
    "- 隠れ層の活性化関数はReLU関数、出力層はソフトマックス関数を使う。\n",
    "- フォワードプロパゲーションとバックプロパゲーションを実装し、モデルの構築・学習を行う。\n",
    "- ミニバッチ確率的勾配降下法を実装する。"
   ]
  },
  {
   "cell_type": "markdown",
   "metadata": {},
   "source": [
    "## ライブラリのインポート\n",
    "\n",
    "まずはじめに、本演習で利用するライブラリのインポートをします。ライブラリのインポートは一番はじめに行うようにしましょう。\n",
    "\n",
    "- [NumPy](http://www.numpy.org) 数値計算を行うための基本パッケージの公式ドキュメント\n",
    "- [Matplotlib](http://matplotlib.org) グラフ描画ライブラリの基本パッケージの公式ドキュメント\n",
    "\n",
    "ドキュメントには有用な情報が書き記されています。何か迷ったときには必ずドキュメントに戻ってくるようにしましょう。\n",
    "\n",
    "次のセルをそのまま実行（\"SHIFT\" + \"ENTER\"）してください。コードが書いてあるセルは**上から順番**に順次実行してください。\n",
    "\n",
    "**注意**： 初めてmatplotlibを使うユーザーは、フォント一覧のキャッシュが存在しないため、このセルの実行でWarningが出ます。もう一度実行すると、すでにキャッシュができているので、Warningなく走ります。"
   ]
  },
  {
   "cell_type": "code",
   "execution_count": 1,
   "metadata": {
    "collapsed": true
   },
   "outputs": [],
   "source": [
    "# ライブラリのインポート\n",
    "%matplotlib inline\n",
    "import numpy as np\n",
    "import matplotlib.pyplot as plt"
   ]
  },
  {
   "cell_type": "markdown",
   "metadata": {},
   "source": [
    "## データセットの準備"
   ]
  },
  {
   "cell_type": "markdown",
   "metadata": {},
   "source": [
    "この演習では \"MNIST\" と呼ばれる手書き数字のデータを用います。\n",
    "\n",
    "28ピクセル×28ピクセルのグレースケール画像が学習用データとして55,000枚、テスト用データとして10,000枚含まれています。\n",
    "\n",
    "今回はTensorFlowで用意されている関数を使ってデータを読み込みます。\n",
    "\n",
    "read_data_setsの引数は\n",
    "1. ファイルの保存場所\n",
    "2. one_hot: one-hotベクトル化するかどうか\n",
    "3. validation_size: 検証用データの枚数、今回は訓練データとテストデータのみ使用します\n",
    "\n",
    "使用しているネットワークの強さによりロードに多少時間がかかる場合があります。"
   ]
  },
  {
   "cell_type": "code",
   "execution_count": 2,
   "metadata": {
    "collapsed": false
   },
   "outputs": [
    {
     "name": "stdout",
     "output_type": "stream",
     "text": [
      "Extracting MNIST_data/train-images-idx3-ubyte.gz\n",
      "Extracting MNIST_data/train-labels-idx1-ubyte.gz\n",
      "Extracting MNIST_data/t10k-images-idx3-ubyte.gz\n",
      "Extracting MNIST_data/t10k-labels-idx1-ubyte.gz\n"
     ]
    }
   ],
   "source": [
    "from tensorflow.examples.tutorials.mnist import input_data\n",
    "mnist = input_data.read_data_sets(\"MNIST_data/\", one_hot=True)"
   ]
  },
  {
   "cell_type": "markdown",
   "metadata": {},
   "source": [
    "ダウンロードしたデータセットを訓練データとテストデータとしてそれぞれ定義しておきます。\n",
    "\n",
    "** 変数名 **\n",
    "- X_train：訓練データ\n",
    "- y_train：訓練データの正解ラベル\n",
    "- X_test：テストデータ\n",
    "- y_test：テストデータの正解ラベル"
   ]
  },
  {
   "cell_type": "code",
   "execution_count": 3,
   "metadata": {
    "collapsed": false
   },
   "outputs": [
    {
     "name": "stdout",
     "output_type": "stream",
     "text": [
      "X_train：訓練データ\n",
      "y_train：訓練データの正解ラベル\n",
      "X_test：テストデータ\n",
      "y_test：テストデータの正解ラベル\n"
     ]
    }
   ],
   "source": [
    "X_train = mnist.train.images\n",
    "y_train = mnist.train.labels\n",
    "X_test = mnist.test.images\n",
    "y_test = mnist.test.labels\n",
    "\n",
    "print(\"X_train：訓練データ\")\n",
    "print(\"y_train：訓練データの正解ラベル\")\n",
    "print(\"X_test：テストデータ\")\n",
    "print(\"y_test：テストデータの正解ラベル\")"
   ]
  },
  {
   "cell_type": "markdown",
   "metadata": {},
   "source": [
    "訓練データとテストデータを確認しましょう。"
   ]
  },
  {
   "cell_type": "code",
   "execution_count": 4,
   "metadata": {
    "collapsed": false
   },
   "outputs": [
    {
     "name": "stdout",
     "output_type": "stream",
     "text": [
      "訓練データ数：55000\n",
      "訓練データ数の特徴：784\n",
      "テストデータ数：10000\n",
      "テストデータ数の特徴：784\n"
     ]
    }
   ],
   "source": [
    "print(\"訓練データ数：{}\".format(X_train.shape[0]))\n",
    "print(\"訓練データ数の特徴：{}\".format(X_train.shape[1]))\n",
    "print(\"テストデータ数：{}\".format(X_test.shape[0]))\n",
    "print(\"テストデータ数の特徴：{}\".format(X_test.shape[1]))"
   ]
  },
  {
   "cell_type": "markdown",
   "metadata": {},
   "source": [
    "\"X_train：訓練データ\"は、学習用データの55000枚の画像データを行列にしたもの（28×28=784）として格納されています。\n",
    "\n",
    "同様に、\"X_test：テストデータ\"は、テスト用データの10000枚の画像データを行列にしたもの（28×28=784）として格納されています。"
   ]
  },
  {
   "cell_type": "code",
   "execution_count": 5,
   "metadata": {
    "collapsed": true
   },
   "outputs": [],
   "source": [
    "#訓練データの数をmに格納しておきます。\n",
    "m = X_train.shape[0]"
   ]
  },
  {
   "cell_type": "code",
   "execution_count": 6,
   "metadata": {
    "collapsed": false
   },
   "outputs": [
    {
     "data": {
      "text/plain": [
       "55000"
      ]
     },
     "execution_count": 6,
     "metadata": {},
     "output_type": "execute_result"
    }
   ],
   "source": [
    "m"
   ]
  },
  {
   "cell_type": "markdown",
   "metadata": {},
   "source": [
    "### データセットをシャッフルしよう"
   ]
  },
  {
   "cell_type": "markdown",
   "metadata": {},
   "source": [
    "MNISTのデータセットをシャッフルします。データセットをそのまま使わずにシャッフルするのはなぜでしょうか。\n",
    "\n",
    "例えば、データがラベル(y)に対してソートされていたとします。\n",
    "\n",
    "すると、そのまま冒頭3000サンプルを取って学習に使うと、0, 1と書いてあるデータばかりが集まってしまうことになってしまいます。\n",
    "\n",
    "一見分からないような規則でソートされている可能性もあるので、データセットの順番がバラバラに見えても必ず最初にシャッフルしてください。\n",
    "\n",
    "下のセルを実行すると**訓練データ**をランダムな配列にシャッフルしてくれます。"
   ]
  },
  {
   "cell_type": "code",
   "execution_count": 7,
   "metadata": {
    "collapsed": true
   },
   "outputs": [],
   "source": [
    "permutation = np.random.permutation(mnist.train.images.shape[0])\n",
    "X_train = mnist.train.images[permutation]\n",
    "y_train = mnist.train.labels[permutation]"
   ]
  },
  {
   "cell_type": "markdown",
   "metadata": {},
   "source": [
    "## データの可視化"
   ]
  },
  {
   "cell_type": "markdown",
   "metadata": {},
   "source": [
    "配列 X_train には55000枚の画像データ(pixel)が、一列に並んで入っています。X_trainのshapeは(55000, 784)です。\n",
    "\n",
    "この画像を表示させるには、一列（ベクトル）に並んでしまっている55000枚の画像データをそれぞれ２次元(28, 28)に戻す必要があります。\n",
    "\n",
    "それにはNumPyの \"reshape\" を使います。\n",
    "\n",
    "ここで学習データの画像をランダムに表示させてみます。セルを実行するたびに画像が変わります。"
   ]
  },
  {
   "cell_type": "code",
   "execution_count": 8,
   "metadata": {
    "collapsed": false
   },
   "outputs": [
    {
     "name": "stdout",
     "output_type": "stream",
     "text": [
      "数字：8\n"
     ]
    },
    {
     "data": {
      "image/png": "[encoded data removed]",
      "text/plain": [
       "<matplotlib.figure.Figure at 0x7f14f8ae1550>"
      ]
     },
     "metadata": {},
     "output_type": "display_data"
    }
   ],
   "source": [
    "num = np.random.randint(0, len(mnist.train.images))\n",
    "plt.imshow(mnist.train.images[num].reshape(28, 28), cmap='gray')\n",
    "print(\"数字：{}\".format(np.argmax(mnist.train.labels[num])))"
   ]
  },
  {
   "cell_type": "markdown",
   "metadata": {},
   "source": [
    "MNISTの画像一枚が表示されたと思います。さらに、画像に対応する数字が画像の上に表示されていると思います。"
   ]
  },
  {
   "cell_type": "markdown",
   "metadata": {},
   "source": [
    "次に正解ラベルについて見てみましょう。\n",
    "\n",
    "正解ラベルの y_train のshapeは(55000,10)です。次のセルのprint文を実行して訓練データとテストデータの正解ラベルを確認します。"
   ]
  },
  {
   "cell_type": "code",
   "execution_count": 9,
   "metadata": {
    "collapsed": false
   },
   "outputs": [
    {
     "name": "stdout",
     "output_type": "stream",
     "text": [
      "訓練データの正解ラベル数：55000\n",
      "訓練データ数の正解ラベルの要素数：10\n",
      "テストデータの正解ラベル数：10000\n",
      "テストデータ数の正解ラベルの要素数：10\n"
     ]
    }
   ],
   "source": [
    "print(\"訓練データの正解ラベル数：{}\".format(y_train.shape[0]))\n",
    "print(\"訓練データ数の正解ラベルの要素数：{}\".format(y_train.shape[1]))\n",
    "print(\"テストデータの正解ラベル数：{}\".format(y_test.shape[0]))\n",
    "print(\"テストデータ数の正解ラベルの要素数：{}\".format(y_test.shape[1]))"
   ]
  },
  {
   "cell_type": "markdown",
   "metadata": {},
   "source": [
    "訓練データの場合、正解ラベル数は55000となっており、それぞれに対して答えとなるラベル部分には「１」が与えられています。\n",
    "\n",
    "下のセルを実行してください。"
   ]
  },
  {
   "cell_type": "code",
   "execution_count": 10,
   "metadata": {
    "collapsed": false
   },
   "outputs": [
    {
     "data": {
      "text/plain": [
       "array([[0., 0., 0., 0., 1., 0., 0., 0., 0., 0.],\n",
       "       [0., 0., 0., 0., 0., 0., 0., 0., 1., 0.],\n",
       "       [0., 1., 0., 0., 0., 0., 0., 0., 0., 0.],\n",
       "       [0., 0., 0., 0., 0., 0., 0., 0., 1., 0.],\n",
       "       [0., 0., 1., 0., 0., 0., 0., 0., 0., 0.]])"
      ]
     },
     "execution_count": 10,
     "metadata": {},
     "output_type": "execute_result"
    }
   ],
   "source": [
    "y_train[:5]"
   ]
  },
  {
   "cell_type": "markdown",
   "metadata": {},
   "source": [
    "例えば、数字の０に対応するラベルは、配列の0番目に１がはいっています。\n",
    "\n",
    "数字の1に対応するラベルには、配列の1番目に1がはいっています。３以降も同様のルールです。\n",
    "\n",
    "以下にそれらを可視化してあるので確認してください。\n",
    "<p>\n",
    "\n",
    "<div align=\"center\"  style=\"width:50%\">\n",
    "<img src=\"./img/step2_mnist_label_019.png\"></div>\n",
    "\n",
    "one-of-k または、one-hotエンコーディングと呼びます。"
   ]
  },
  {
   "cell_type": "markdown",
   "metadata": {},
   "source": [
    "これまで１つのMNSITのデータをみてきました。少し物足りなさもあるので、MNIST１００個の画像を表示するプログラミムを定義しておきます。"
   ]
  },
  {
   "cell_type": "code",
   "execution_count": 11,
   "metadata": {
    "collapsed": true
   },
   "outputs": [],
   "source": [
    "def displayData(images):\n",
    "    images_reshaped = images.reshape((100, 28, 28))\n",
    "    for i in range(100):\n",
    "        plt.subplot(10,10,i+1)\n",
    "        plt.imshow(images_reshaped[i,:,:])\n",
    "        plt.axis(\"off\")\n",
    "        plt.gray()\n",
    "    plt.show()"
   ]
  },
  {
   "cell_type": "markdown",
   "metadata": {},
   "source": [
    "実際に表示させてみます。下のセルを実行すると100枚の画像が表示されます。"
   ]
  },
  {
   "cell_type": "code",
   "execution_count": 12,
   "metadata": {
    "collapsed": false
   },
   "outputs": [
    {
     "data": {
      "image/png": "[encoded data removed]",
      "text/plain": [
       "<matplotlib.figure.Figure at 0x7f14f85fca58>"
      ]
     },
     "metadata": {},
     "output_type": "display_data"
    }
   ],
   "source": [
    "displayData(X_train[:100, :])"
   ]
  },
  {
   "cell_type": "markdown",
   "metadata": {},
   "source": [
    "## データセットの正規化"
   ]
  },
  {
   "cell_type": "markdown",
   "metadata": {},
   "source": [
    "ここではデータを整える正規化を行います。データセット全体が平均0.0，分散1.0となるように正規化しましょう。\n",
    "\n",
    "下のセルを実行してください。"
   ]
  },
  {
   "cell_type": "code",
   "execution_count": 13,
   "metadata": {
    "collapsed": true
   },
   "outputs": [],
   "source": [
    "mean = np.mean(X_train)\n",
    "std = np.std(X_train)\n",
    "X_train = (X_train-mean) / std\n",
    "X_test = (X_test-mean) / std"
   ]
  },
  {
   "cell_type": "markdown",
   "metadata": {},
   "source": [
    "## ニューラルネットワークモデル"
   ]
  },
  {
   "cell_type": "markdown",
   "metadata": {},
   "source": [
    "これまでは学習に利用するMNISTのデータセットの性質を、訓練データとテストデータに分けてそれぞれ確認してきました。\n",
    "\n",
    "ここからは今回の演習で用いるニューラルネットワークのモデルを構築します。\n",
    "\n",
    "入力層のユニット数は特徴の数である784個、出力層は0~9の数字の１０クラス分、隱れ層のユニット数は100個とします。\n",
    "\n",
    "ここでは下記の条件で、ニューラルネットワークのモデルを構築します：\n",
    "\n",
    "- 入力層のユニット数784個\n",
    "- 隠れ層のユニット数100個\n",
    "- 出力層のユニット数10個"
   ]
  },
  {
   "cell_type": "markdown",
   "metadata": {},
   "source": [
    "**モデル**:\n",
    "<div style=\"width:40%\">\n",
    "<img src=\"./img/step2_mlp_784-10.png\"><div>"
   ]
  },
  {
   "cell_type": "markdown",
   "metadata": {},
   "source": [
    "### ニューラルネットワークのモデルを定義"
   ]
  },
  {
   "cell_type": "markdown",
   "metadata": {},
   "source": [
    "**【課題１】** layer_sizes(X, H, Y)を実装してください。戻り値はニューラルネットワークの各層のユニット数 input_size, hidden_size, output_size とします。\n",
    " - X：input_size：784ユニット\n",
    " - H：hidden_size：100ユニット\n",
    " - Y：output_size：10ユニット"
   ]
  },
  {
   "cell_type": "code",
   "execution_count": 14,
   "metadata": {
    "collapsed": true
   },
   "outputs": [],
   "source": [
    "#Coursedele-02 Step2 QuestionNumber15 d833ad6615cdf8cfb4de7cc608a32491\n",
    "def layer_sizes(X, H, Y):\n",
    "    ###############START CODE HERE###############\n",
    "    input_size = X\n",
    "    hidden_size = H\n",
    "    output_size = Y\n",
    "    ################END CODE HERE################\n",
    "    return input_size, hidden_size, output_size"
   ]
  },
  {
   "cell_type": "markdown",
   "metadata": {},
   "source": [
    "** ファイルを保存後 **、次のセルを実行（Shift+Enter）で採点を行います。"
   ]
  },
  {
   "cell_type": "code",
   "execution_count": 15,
   "metadata": {
    "collapsed": false
   },
   "outputs": [
    {
     "name": "stdout",
     "output_type": "stream",
     "text": [
      "Congratulations!\n",
      "We give you 10 points out of 10 points.\n",
      "\n"
     ]
    }
   ],
   "source": [
    "%%bash\n",
    "./validation_client.py dele-02 2 15 Step2_02.ipynb api.internal.zero2one.jp"
   ]
  },
  {
   "cell_type": "code",
   "execution_count": 16,
   "metadata": {
    "collapsed": true
   },
   "outputs": [],
   "source": [
    "input_size, hidden_size, output_size = layer_sizes(784, 100, 10)"
   ]
  },
  {
   "cell_type": "code",
   "execution_count": 17,
   "metadata": {
    "collapsed": false
   },
   "outputs": [
    {
     "name": "stdout",
     "output_type": "stream",
     "text": [
      "入力層のユニット数：784\n",
      "隠れ層のユニット数：100\n",
      "出力層のユニット数：10\n"
     ]
    }
   ],
   "source": [
    "print(\"入力層のユニット数：{}\".format(input_size))\n",
    "print(\"隠れ層のユニット数：{}\".format(hidden_size))\n",
    "print(\"出力層のユニット数：{}\".format(output_size))"
   ]
  },
  {
   "cell_type": "markdown",
   "metadata": {},
   "source": [
    "**Expected Output** .\n",
    "\n",
    "<table style=\"width:30%\">\n",
    "  <tr>\n",
    "    <td>**入力層のユニット数**</td>\n",
    "    <td> 784 </td> \n",
    "  </tr>\n",
    "  \n",
    "    <tr>\n",
    "    <td>**隠れ層のユニット数**</td>\n",
    "    <td> 100 </td> \n",
    "  </tr>\n",
    "  \n",
    "    <tr>\n",
    "    <td>**出力層のユニット数**</td>\n",
    "    <td> 10 </td> \n",
    "  </tr>\n",
    "  \n",
    "</table>"
   ]
  },
  {
   "cell_type": "markdown",
   "metadata": {},
   "source": [
    "## パラメータのランダムに初期化"
   ]
  },
  {
   "cell_type": "markdown",
   "metadata": {},
   "source": [
    "ニューラルネットワークの学習時に利用するパラメータの重み$w$とバイアス$b$をランダムに初期化します。\n",
    "\n",
    "パラメータの初期化には、正規分布（ガウス分布）からランダムな値を出力するNumPyの **random.normal** を使用します。"
   ]
  },
  {
   "cell_type": "markdown",
   "metadata": {},
   "source": [
    "**【課題２】** ランダムにパラメータを初期化する initialize_parameters(input_size, hidden_size, output_size) を実装してください。\n",
    "\n",
    "戻り値は重み$w_1,w_2$ バイアス$b_1,b_2$とします。\n",
    "\n",
    "**Note**\n",
    "- 重みwの初期化：平均0.0，分散0.1で初期化します。random.normalの引数は以下の通り。\n",
    " - scale：正規分布の分散 scale=0.1 と記述\n",
    " - size：size=(a,b) で行列の形を決める\n",
    "- バイアスbの初期化：0で定数初期化\n",
    " - np.zeros((a, b))\n",
    " - numpyのnp.zerosを使います。aとbには数値を与え行列のshapeを決定します。\n",
    " \n",
    "本課題では、行列の形を \"input_size, hidden_size, output_size\" を使って決定します。"
   ]
  },
  {
   "cell_type": "code",
   "execution_count": 18,
   "metadata": {
    "collapsed": false
   },
   "outputs": [],
   "source": [
    "#Coursedele-02 Step2 QuestionNumber16 52a18412afdc58acf6a45e710b0c2eff\n",
    "def initialize_parameters(input_size, hidden_size, output_size):\n",
    "    ###############START CODE HERE###############\n",
    "    W1 = np.random.normal(scale=0.1,size=(input_size,hidden_size))\n",
    "    b1 = np.zeros((1,hidden_size))\n",
    "    W2 = np.random.normal(scale=0.1,size=(hidden_size,output_size))\n",
    "    b2 = np.zeros((1,output_size))\n",
    "    ################END CODE HERE################\n",
    "    return W1,b1,W2,b2"
   ]
  },
  {
   "cell_type": "markdown",
   "metadata": {},
   "source": [
    "** ファイルを保存後 **、次のセルを実行（Shift+Enter）で採点を行います。"
   ]
  },
  {
   "cell_type": "code",
   "execution_count": 19,
   "metadata": {
    "collapsed": false
   },
   "outputs": [
    {
     "name": "stdout",
     "output_type": "stream",
     "text": [
      "Congratulations!\n",
      "We give you 10 points out of 10 points.\n",
      "\n"
     ]
    }
   ],
   "source": [
    "%%bash\n",
    "./validation_client.py dele-02 2 16 Step2_02.ipynb api.internal.zero2one.jp"
   ]
  },
  {
   "cell_type": "code",
   "execution_count": 20,
   "metadata": {
    "collapsed": false
   },
   "outputs": [],
   "source": [
    "W1,b1,W2,b2 = initialize_parameters(input_size, hidden_size, output_size)"
   ]
  },
  {
   "cell_type": "code",
   "execution_count": 21,
   "metadata": {
    "collapsed": false
   },
   "outputs": [
    {
     "name": "stdout",
     "output_type": "stream",
     "text": [
      "W1：(784, 100)\n",
      "b1：(1, 100)\n",
      "W2：(100, 10)\n",
      "b2：(1, 10)\n"
     ]
    }
   ],
   "source": [
    "print(\"W1：\" + str(W1.shape))\n",
    "print(\"b1：\" + str(b1.shape))\n",
    "print(\"W2：\" + str(W2.shape))\n",
    "print(\"b2：\" + str(b2.shape))"
   ]
  },
  {
   "cell_type": "markdown",
   "metadata": {},
   "source": [
    "**Expected Output**:\n",
    "\n",
    "<table style=\"width:25%\">\n",
    "  <tr>\n",
    "    <td>**W1**</td>\n",
    "    <td>(784, 100)</td> \n",
    "  </tr>\n",
    "  \n",
    "  <tr>\n",
    "    <td>**b1**</td>\n",
    "    <td>(1, 100)</td> \n",
    "  </tr>\n",
    "  \n",
    "  <tr>\n",
    "    <td>**W2**</td>\n",
    "    <td>(100, 10)</td> \n",
    "  </tr>\n",
    "  \n",
    "\n",
    "  <tr>\n",
    "    <td>**b2**</td>\n",
    "    <td>(1, 10)</td> \n",
    "  </tr>\n",
    "  \n",
    "</table>\n"
   ]
  },
  {
   "cell_type": "markdown",
   "metadata": {},
   "source": [
    "## 活性化関数"
   ]
  },
  {
   "cell_type": "markdown",
   "metadata": {},
   "source": [
    "隠れ層で使う活性化関数を準備します。今回はReLU関数を実装します。\n",
    "\n",
    "**【課題３】**  ReLU関数 relu(x) を実装してください。戻り値はReLU関数の出力とします。\n",
    "\n",
    "ReLU関数：\n",
    "\n",
    "$$relu(z)=max\\{0,z\\}$$"
   ]
  },
  {
   "cell_type": "code",
   "execution_count": 22,
   "metadata": {
    "collapsed": true
   },
   "outputs": [],
   "source": [
    "#Coursedele-02 Step2 QuestionNumber17 f06a377d24decd89d4a0a6759901af62\n",
    "def relu(x):\n",
    "    ###############START CODE HERE###############\n",
    "    y = np.maximum(0,x)\n",
    "    ################END CODE HERE################\n",
    "    return y"
   ]
  },
  {
   "cell_type": "markdown",
   "metadata": {},
   "source": [
    "** ファイルを保存後 **、次のセルを実行（Shift+Enter）で採点を行います。"
   ]
  },
  {
   "cell_type": "code",
   "execution_count": 23,
   "metadata": {
    "collapsed": false
   },
   "outputs": [
    {
     "name": "stdout",
     "output_type": "stream",
     "text": [
      "ExcessiveAccess: Wait for 10 minutes\n",
      "Error regarding to send score\n",
      "\n"
     ]
    }
   ],
   "source": [
    "%%bash\n",
    "./validation_client.py dele-02 2 17 Step2_02.ipynb api.internal.zero2one.jp"
   ]
  },
  {
   "cell_type": "code",
   "execution_count": 24,
   "metadata": {
    "collapsed": false
   },
   "outputs": [
    {
     "data": {
      "text/plain": [
       "array([0, 0, 1, 5])"
      ]
     },
     "execution_count": 24,
     "metadata": {},
     "output_type": "execute_result"
    }
   ],
   "source": [
    "#ReLU関数の出力\n",
    "relu(np.array([-5, 0, 1, 5]))"
   ]
  },
  {
   "cell_type": "markdown",
   "metadata": {},
   "source": [
    "**Expected Output**: \n",
    "<table style = \"width:40%\">\n",
    "    <tr>\n",
    "    <td>** relu(np.array([-5, 0, 1, 5])) **</td> \n",
    "        <td>array([0, 0, 1, 5])</td> \n",
    "    </tr>\n",
    "\n",
    "</table>"
   ]
  },
  {
   "cell_type": "markdown",
   "metadata": {},
   "source": [
    "** 【課題４】 ** ReLU関数の微分 relu_derivative(x) を実装してください。戻り値はReLU関数の微分の出力とします。\n",
    "\n",
    "ReLU関数の微分：\n",
    "\n",
    "$$\n",
    "  relu\\_derivative(z) = \\left\\{ \\begin{array}{ll}\n",
    "    1　(z>0) \\\\\n",
    "    0　(z≦0)\n",
    "  \\end{array} \\right.\n",
    "$$"
   ]
  },
  {
   "cell_type": "code",
   "execution_count": 25,
   "metadata": {
    "collapsed": true
   },
   "outputs": [],
   "source": [
    "#Coursedele-02 Step2 QuestionNumber18 0137b6a4cdd565497bb2a7288a93882f\n",
    "def relu_derivative(x):\n",
    "    ###############START CODE HERE###############\n",
    "    x[x > 0] = 1\n",
    "    x[x <= 0] = 0\n",
    "    return x\n",
    "    ################END CODE HERE################"
   ]
  },
  {
   "cell_type": "markdown",
   "metadata": {},
   "source": [
    "** ファイルを保存後 **、次のセルを実行（Shift+Enter）で採点を行います。"
   ]
  },
  {
   "cell_type": "code",
   "execution_count": 26,
   "metadata": {
    "collapsed": false
   },
   "outputs": [
    {
     "name": "stdout",
     "output_type": "stream",
     "text": [
      "ExcessiveAccess: Wait for 10 minutes\n",
      "\n"
     ]
    }
   ],
   "source": [
    "%%bash\n",
    "./validation_client.py dele-02 2 18 Step2_02.ipynb api.internal.zero2one.jp"
   ]
  },
  {
   "cell_type": "code",
   "execution_count": 27,
   "metadata": {
    "collapsed": false
   },
   "outputs": [
    {
     "data": {
      "text/plain": [
       "array([0, 0, 1, 1])"
      ]
     },
     "execution_count": 27,
     "metadata": {},
     "output_type": "execute_result"
    }
   ],
   "source": [
    "#ReLU関数の微分の出力\n",
    "relu_derivative(np.array([-5, 0, 1, 5]))"
   ]
  },
  {
   "cell_type": "markdown",
   "metadata": {},
   "source": [
    "**Expected Output**: \n",
    "<table style = \"width:50%\">\n",
    "    <tr>\n",
    "    <td>** relu_derivative(np.array([-5, 0, 1, 5]))**</td> \n",
    "        <td>array([0, 0, 1, 1])</td> \n",
    "    </tr>\n",
    "\n",
    "</table>"
   ]
  },
  {
   "cell_type": "markdown",
   "metadata": {},
   "source": [
    "ReLUとReLUの微分の結果をそれぞれプロットしてみましょう。"
   ]
  },
  {
   "cell_type": "code",
   "execution_count": 28,
   "metadata": {
    "collapsed": false
   },
   "outputs": [
    {
     "data": {
      "image/png": "[encoded data removed]",
      "text/plain": [
       "<matplotlib.figure.Figure at 0x7f14e3b95278>"
      ]
     },
     "metadata": {},
     "output_type": "display_data"
    }
   ],
   "source": [
    "# relu関数\n",
    "sample_x = np.arange(-5, 5, 0.02) \n",
    "y_relu = relu(sample_x)\n",
    "plt.plot(sample_x, y_relu, label=\"ReLU\") \n",
    "\n",
    "# relu関数の微分\n",
    "sample_x_ = np.arange(-5, 5, 0.02) \n",
    "y_derivative = relu_derivative(sample_x)\n",
    "plt.plot(sample_x_, y_derivative, label=\"ReLU Derivative\") \n",
    "\n",
    "plt.ylim(-0.2,3)\n",
    "plt.legend(loc = 'upper left')\n",
    "plt.show() "
   ]
  },
  {
   "cell_type": "markdown",
   "metadata": {},
   "source": [
    "### ソフトマックス関数"
   ]
  },
  {
   "cell_type": "markdown",
   "metadata": {
    "collapsed": true
   },
   "source": [
    "** 【課題5】 **softmax関数の出力を返す関数 softmax(x) を実装してください。\n",
    "\n",
    "$${\\rm softmax}(x)_{i}=\\frac{e^{x_i}}{\\displaystyle\\sum_{j=1}^{n}e^{x_j}}　(i=1,2,\\ldots,n)$$"
   ]
  },
  {
   "cell_type": "code",
   "execution_count": 29,
   "metadata": {
    "collapsed": true
   },
   "outputs": [],
   "source": [
    "#Coursedele-02 Step2 QuestionNumber19 0baa7f13b6842bda61c92234f678386f\n",
    "def softmax(x):\n",
    "    ###############START CODE HERE###############\n",
    "    c = np.max(x)\n",
    "    exp_x = np.exp(x-c)\n",
    "    y = exp_x / np.sum(exp_x,axis=1,keepdims = True)\n",
    "    ################END CODE HERE################\n",
    "    return y"
   ]
  },
  {
   "cell_type": "markdown",
   "metadata": {},
   "source": [
    "** ファイルを保存後 **、次のセルを実行（Shift+Enter）で採点を行います。"
   ]
  },
  {
   "cell_type": "code",
   "execution_count": 30,
   "metadata": {
    "collapsed": false
   },
   "outputs": [
    {
     "name": "stdout",
     "output_type": "stream",
     "text": [
      "ExcessiveAccess: Wait for 10 minutes\n",
      "\n"
     ]
    }
   ],
   "source": [
    "%%bash\n",
    "./validation_client.py dele-02 2 19 Step2_02.ipynb api.internal.zero2one.jp"
   ]
  },
  {
   "cell_type": "markdown",
   "metadata": {},
   "source": [
    "## フォワードプロパゲーションの実装"
   ]
  },
  {
   "cell_type": "markdown",
   "metadata": {},
   "source": [
    "さて、これまで\n",
    "\n",
    "- モデルを定義\n",
    "- パラメータの初期化\n",
    "- 活性化関数の実装\n",
    "\n",
    "以上３つのことを行ってきました。次からは、ニューラルネットワークのモデルの構築を順に進めていきます。\n",
    "\n",
    "まずは、順伝播、フォワードプロパゲーションの実装をします。"
   ]
  },
  {
   "cell_type": "markdown",
   "metadata": {},
   "source": [
    "**フォワード**:\n",
    "$$z^{(1)}=W^{(1)}x^{(1)}+b^{(1)}$$\n",
    "$$a^{(1)}=relu(z^{(1)})$$\n",
    "$$z^{(2)}=W^{(2)}a^{(1)}+b^{(2)}$$\n",
    "$$a^{(2)}=softmax(z^{(2)})$$"
   ]
  },
  {
   "cell_type": "markdown",
   "metadata": {},
   "source": [
    "**【課題６】** 順伝播を行う関数 forward_propagation(X, W1,b1,W2, b2) を実装してください。戻り値は、各層 $z_1,a_1,z_2,a_2$ の出力とします。\n",
    "\n",
    "**Note:**\n",
    " - フォワードプロパゲーションの実装を行います。layer1_z, layer1_a, layer2_z, layer2_a にそれぞれ記述してください。\n",
    " - 上の数式とコードはそれぞれ対応関係にあります。$z^{(1)}$は、\"layer1_z\"と対応しています。$a^{(1)}$は、\"layer1_a\"です。以下同様です。\n",
    " - 隠れ層の活性化関数にはReLU関数、出力層はソフトマックス関数とします。"
   ]
  },
  {
   "cell_type": "code",
   "execution_count": 31,
   "metadata": {
    "collapsed": true
   },
   "outputs": [],
   "source": [
    "#Coursedele-02 Step2 QuestionNumber20 671e4adf82552e2da0a3ead626fc3b9b\n",
    "def forward_propagation(X, W1,b1,W2, b2):\n",
    "    ###############START CODE HERE###############\n",
    "    layer1_z = np.dot(X,W1) + b1\n",
    "    layer1_a = relu(layer1_z)\n",
    "    layer2_z = np.dot(layer1_a,W2) + b2\n",
    "    layer2_a = softmax(layer2_z)\n",
    "    ################END CODE HERE################\n",
    "    return layer1_z, layer1_a, layer2_z, layer2_a"
   ]
  },
  {
   "cell_type": "markdown",
   "metadata": {},
   "source": [
    "** ファイルを保存後 **、次のセルを実行（Shift+Enter）で採点を行います。"
   ]
  },
  {
   "cell_type": "code",
   "execution_count": 32,
   "metadata": {
    "collapsed": false
   },
   "outputs": [
    {
     "name": "stdout",
     "output_type": "stream",
     "text": [
      "ExcessiveAccess: Wait for 10 minutes\n",
      "\n"
     ]
    }
   ],
   "source": [
    "%%bash\n",
    "./validation_client.py dele-02 2 20 Step2_02.ipynb api.internal.zero2one.jp"
   ]
  },
  {
   "cell_type": "code",
   "execution_count": 33,
   "metadata": {
    "collapsed": false
   },
   "outputs": [],
   "source": [
    "layer1_z, layer1_a, layer2_z, layer2_a = forward_propagation(X_train, W1,b1,W2, b2)"
   ]
  },
  {
   "cell_type": "code",
   "execution_count": 34,
   "metadata": {
    "collapsed": false
   },
   "outputs": [
    {
     "name": "stdout",
     "output_type": "stream",
     "text": [
      "layer1_z：(55000, 100)\n",
      "layer1_a：(55000, 100)\n",
      "layer2_z：(55000, 10)\n",
      "layer2_a：(55000, 10)\n"
     ]
    }
   ],
   "source": [
    "print(\"layer1_z：\" + str(layer1_z.shape))\n",
    "print(\"layer1_a：\" + str(layer1_a.shape))\n",
    "print(\"layer2_z：\" + str(layer2_z.shape))\n",
    "print(\"layer2_a：\" + str(layer2_a.shape))"
   ]
  },
  {
   "cell_type": "markdown",
   "metadata": {},
   "source": [
    "**Expected Output**:\n",
    "\n",
    "<table style=\"width:25%\">\n",
    "  <tr>\n",
    "    <td>**layer1_z**</td>\n",
    "    <td>(55000, 100)</td> \n",
    "  </tr>\n",
    "  \n",
    "  <tr>\n",
    "    <td>**layer1_a**</td>\n",
    "    <td>(55000, 100)</td> \n",
    "  </tr>\n",
    "  \n",
    "  <tr>\n",
    "    <td>**layer2_z**</td>\n",
    "    <td>(55000, 10)</td> \n",
    "  </tr>\n",
    " \n",
    "  <tr>\n",
    "    <td>**layer2_a**</td>\n",
    "    <td>(55000, 10)</td> \n",
    "  </tr>\n",
    "  \n",
    "</table>"
   ]
  },
  {
   "cell_type": "markdown",
   "metadata": {},
   "source": [
    "## コスト関数"
   ]
  },
  {
   "cell_type": "markdown",
   "metadata": {},
   "source": [
    "コスト関数を実装します。"
   ]
  },
  {
   "cell_type": "markdown",
   "metadata": {},
   "source": [
    "**コスト関数**：\n",
    "$$C(w,b)=-\\frac{1}{m}\\sum_{n=1}^{m}y_n{\\log}\\hat{y}_{n}$$"
   ]
  },
  {
   "cell_type": "markdown",
   "metadata": {},
   "source": [
    "**【課題７】** 目的関数の値を計算する関数compute_cost(y, y_hat, m)を実装してください。戻り値は、コスト関数の出力とします。\n",
    "\n",
    "**Note:**\n",
    " - クロスエントロピーをコスト関数とします。\n",
    " - フォワードプロパーゲションの出力は、layer2_a です。$\\hat{y}$に対応します。\n",
    " - $y$ は正解ラベル\n",
    " - $\\hat{y}$ はモデルの出力\n",
    " - $m$ は訓練データ数"
   ]
  },
  {
   "cell_type": "code",
   "execution_count": 35,
   "metadata": {
    "collapsed": true
   },
   "outputs": [],
   "source": [
    "#Coursedele-02 Step2 QuestionNumber21 527b20d1e29b964ef618580303d00ab6\n",
    "def compute_cost(y, y_hat, m):\n",
    "    ###############START CODE HERE###############\n",
    "    cost = - np.sum(y * np.log(y_hat)) / m   \n",
    "    ################END CODE HERE################\n",
    "    return cost"
   ]
  },
  {
   "cell_type": "markdown",
   "metadata": {},
   "source": [
    "** ファイルを保存後 **、次のセルを実行（Shift+Enter）で採点を行います。"
   ]
  },
  {
   "cell_type": "code",
   "execution_count": 36,
   "metadata": {
    "collapsed": false
   },
   "outputs": [
    {
     "name": "stdout",
     "output_type": "stream",
     "text": [
      "ExcessiveAccess: Wait for 10 minutes\n",
      "\n"
     ]
    }
   ],
   "source": [
    "%%bash\n",
    "./validation_client.py dele-02 2 21 Step2_02.ipynb api.internal.zero2one.jp"
   ]
  },
  {
   "cell_type": "code",
   "execution_count": 37,
   "metadata": {
    "collapsed": true
   },
   "outputs": [],
   "source": [
    "cost = compute_cost(y_train, layer2_a, m)"
   ]
  },
  {
   "cell_type": "code",
   "execution_count": 38,
   "metadata": {
    "collapsed": false
   },
   "outputs": [
    {
     "name": "stdout",
     "output_type": "stream",
     "text": [
      "初期のパラメータのモデルのコスト:  3.985370522488521\n"
     ]
    }
   ],
   "source": [
    "print(\"初期のパラメータのモデルのコスト: \", cost)"
   ]
  },
  {
   "cell_type": "markdown",
   "metadata": {},
   "source": [
    "このコスト関数の出力をゼロに近づけることがモデルの学習の一つの目標でもあります。"
   ]
  },
  {
   "cell_type": "markdown",
   "metadata": {},
   "source": [
    "## バックプロパゲーションの実装"
   ]
  },
  {
   "cell_type": "markdown",
   "metadata": {},
   "source": [
    "逆伝播（バックプロパゲーション）では、目的関数のパラメータについての勾配を求めます。"
   ]
  },
  {
   "cell_type": "markdown",
   "metadata": {},
   "source": [
    "**バックプロパゲーション**:\n",
    "<br>\n",
    "\n",
    "<div style=\"width:70%\">\n",
    "<img src=\"./img/NN_fp_bp_ce_softmax.png\"></div>\n",
    "<br>\n",
    "<br>\n",
    "※このイメージは、コスト関数にクロスエントロピー、出力層にはソフトマックス関数を用いた例です。"
   ]
  },
  {
   "cell_type": "markdown",
   "metadata": {},
   "source": [
    "**【課題８】** 逆伝播を行う関数 back_propagation(X, y, W2, layer1_z, layer1_a, layer2_z, layer2_a) を実装してください。\n",
    "\n",
    "戻り値は、目的関数のパラメータに関する勾配 $w_1,b_1,w_2,b_2$ とします。\n",
    "\n",
    "**Note1:**\n",
    " - 上の数式を参考にバックプロパゲーションを実装を行います。\n",
    " - バックプロパゲーションはディープラーニングで一番大変な部分ですが、ここ乗り越えることは非常に重要な意味を持ちますので頑張りましょう。\n",
    " - 行列演算に注意し、np.dot()や転置行列を意味する\".T\"を使用することでうまく実装します。\n",
    " \n",
    "**Note2:**\n",
    " \n",
    " * X：入力データ\n",
    " * y：正解ラベル\n",
    " * W2：隠れ層と出力層の間の重み\n",
    " * layer1_z：レイヤー1の線形結合$z_1$\n",
    " * layer1_a：レイヤー1の活性化後の値$a_1$\n",
    " * layer2_z：レイヤー2の線形結合$z_2$\n",
    " * layer2_a：レイヤー2の出力の値$a_2$\n",
    " * relu_derivative()：ReLU関数の微分"
   ]
  },
  {
   "cell_type": "code",
   "execution_count": 39,
   "metadata": {
    "collapsed": true
   },
   "outputs": [],
   "source": [
    "#Coursedele-02 Step2 QuestionNumber22 28294163521b1c269719b8b6ca85ec6c\n",
    "def backward_propagation(X, y, W2, layer1_z, layer1_a, layer2_z, layer2_a, batch_size):\n",
    "    ###############START CODE HERE###############\n",
    "    derivative_layer2_z = (layer2_a - y)/batch_size\n",
    "    delta_W2 = np.dot(layer1_a.T,derivative_layer2_z)\n",
    "    delta_b2 = np.sum(derivative_layer2_z, axis=0 ,keepdims=True) \n",
    "        \n",
    "    derivative_layer1_z = np.dot(derivative_layer2_z,W2.T) * relu_derivative(layer1_z)\n",
    "    delta_W1 = np.dot(X.T,derivative_layer1_z)\n",
    "    delta_b1 = np.sum(derivative_layer1_z,axis=0,keepdims=True)\n",
    "    ################END CODE HERE################\n",
    "    return delta_W2, delta_b2, delta_W1, delta_b1"
   ]
  },
  {
   "cell_type": "markdown",
   "metadata": {},
   "source": [
    "** ファイルを保存後 **、次のセルを実行（Shift+Enter）で採点を行います。"
   ]
  },
  {
   "cell_type": "code",
   "execution_count": 40,
   "metadata": {
    "collapsed": false
   },
   "outputs": [
    {
     "name": "stdout",
     "output_type": "stream",
     "text": [
      "ExcessiveAccess: Wait for 10 minutes\n",
      "\n"
     ]
    }
   ],
   "source": [
    "%%bash\n",
    "./validation_client.py dele-02 2 22 Step2_02.ipynb api.internal.zero2one.jp"
   ]
  },
  {
   "cell_type": "code",
   "execution_count": 41,
   "metadata": {
    "collapsed": false
   },
   "outputs": [],
   "source": [
    "delta_W2, delta_b2, delta_W1, delta_b1 = backward_propagation(X_train, y_train, W2, layer1_z, layer1_a, layer2_z, layer2_a, batch_size=100)"
   ]
  },
  {
   "cell_type": "code",
   "execution_count": 42,
   "metadata": {
    "collapsed": false
   },
   "outputs": [
    {
     "name": "stdout",
     "output_type": "stream",
     "text": [
      "delta_W1：(784, 100)\n",
      "delta_b1：(1, 100)\n",
      "delta_W2：(100, 10)\n",
      "delta_b2：(1, 10)\n"
     ]
    }
   ],
   "source": [
    "print (\"delta_W1：\"+ str(delta_W1.shape))\n",
    "print (\"delta_b1：\"+ str(delta_b1.shape))\n",
    "print (\"delta_W2：\"+ str(delta_W2.shape))\n",
    "print (\"delta_b2：\"+ str(delta_b2.shape))"
   ]
  },
  {
   "cell_type": "markdown",
   "metadata": {},
   "source": [
    "**Expected Output**:\n",
    "\n",
    "<table style=\"width:25%\">\n",
    "  <tr>\n",
    "    <td>**delta_W1**</td>\n",
    "    <td>(784, 100)</td> \n",
    "  </tr>\n",
    "  \n",
    "  <tr>\n",
    "    <td>**delta_b1**</td>\n",
    "    <td>(1, 100)</td> \n",
    "  </tr>\n",
    "  \n",
    "  <tr>\n",
    "    <td>**delta_W2**</td>\n",
    "    <td>(100, 10)</td> \n",
    "  </tr>\n",
    " \n",
    "  <tr>\n",
    "    <td>**delta_b2**</td>\n",
    "    <td>(1, 3)</td> \n",
    "  </tr>\n",
    "  \n",
    "</table>"
   ]
  },
  {
   "cell_type": "markdown",
   "metadata": {},
   "source": [
    "## パラメータの更新"
   ]
  },
  {
   "cell_type": "markdown",
   "metadata": {},
   "source": [
    "パラメータの更新です。"
   ]
  },
  {
   "cell_type": "markdown",
   "metadata": {},
   "source": [
    "*パラメータの更新式：*\n",
    "$$w=w-\\alpha\\Delta{w}$$\n",
    "$$b=b-\\alpha\\Delta{b}$$"
   ]
  },
  {
   "cell_type": "code",
   "execution_count": 43,
   "metadata": {
    "collapsed": true
   },
   "outputs": [],
   "source": [
    "#学習率を定義します。\n",
    "learning_rate = 0.01"
   ]
  },
  {
   "cell_type": "markdown",
   "metadata": {},
   "source": [
    "**【課題９】** パラメータの更新を行う update_parameters(W1, b1, W2, b2, delta_W1, delta_b1, delta_W2, delta_b2, learning_rate) を実装してください。\n",
    "\n",
    "戻り値は、パラメータ $W_1,b_1,W_2,b_2$ とします。\n",
    "\n",
    "**Note:**\n",
    " - バックプロパゲーションで計算した勾配を用いてパラメータの更新を行います。\n",
    " - $\\alpha$は学習率（learning_rate）です。"
   ]
  },
  {
   "cell_type": "code",
   "execution_count": 44,
   "metadata": {
    "collapsed": true
   },
   "outputs": [],
   "source": [
    "#Coursedele-02 Step2 QuestionNumber23 82717d28b5f91771a87ae5eac2166775\n",
    "def update_parameters(W1, b1, W2, b2, delta_W1, delta_b1, delta_W2, delta_b2, learning_rate):\n",
    "    ###############START CODE HERE###############\n",
    "    W1 = W1 - learning_rate * delta_W1\n",
    "    b1 = b1 - learning_rate * delta_b1\n",
    "    W2 = W2 - learning_rate * delta_W2\n",
    "    b2 = b2 - learning_rate * delta_b2\n",
    "    ################END CODE HERE################\n",
    "    return W1, b1, W2, b2"
   ]
  },
  {
   "cell_type": "markdown",
   "metadata": {},
   "source": [
    "** ファイルを保存後 **、次のセルを実行（Shift+Enter）で採点を行います。"
   ]
  },
  {
   "cell_type": "code",
   "execution_count": 45,
   "metadata": {
    "collapsed": false
   },
   "outputs": [
    {
     "name": "stdout",
     "output_type": "stream",
     "text": [
      "ExcessiveAccess: Wait for 10 minutes\n",
      "\n"
     ]
    }
   ],
   "source": [
    "%%bash\n",
    "./validation_client.py dele-02 2 23 Step2_02.ipynb api.internal.zero2one.jp"
   ]
  },
  {
   "cell_type": "code",
   "execution_count": 46,
   "metadata": {
    "collapsed": true
   },
   "outputs": [],
   "source": [
    "W1, b1, W2, b2 = update_parameters(W1, b1, W2, b2, delta_W1, delta_b1, delta_W2, delta_b2, learning_rate)"
   ]
  },
  {
   "cell_type": "code",
   "execution_count": 47,
   "metadata": {
    "collapsed": false
   },
   "outputs": [
    {
     "name": "stdout",
     "output_type": "stream",
     "text": [
      "W1：(784, 100)\n",
      "b1：(1, 100)\n",
      "W2：(100, 10)\n",
      "b2：(1, 10)\n"
     ]
    }
   ],
   "source": [
    "print(\"W1：\" + str(W1.shape))\n",
    "print(\"b1：\" + str(b1.shape))\n",
    "print(\"W2：\" + str(W2.shape))\n",
    "print(\"b2：\" + str(b2.shape))"
   ]
  },
  {
   "cell_type": "markdown",
   "metadata": {
    "collapsed": true
   },
   "source": [
    "### 正解率を計算する関数を用意"
   ]
  },
  {
   "cell_type": "markdown",
   "metadata": {},
   "source": [
    "正解率を計算する関数accuracy(y, y_hat)を実装しておきます。このまま実行してください。\n",
    "\n",
    "- $y$ は正解ラベル\n",
    "- $\\hat{y}$ はモデルの出力"
   ]
  },
  {
   "cell_type": "code",
   "execution_count": 48,
   "metadata": {
    "collapsed": true
   },
   "outputs": [],
   "source": [
    "def accuracy(y, y_hat):\n",
    "    accuracy = (np.argmax(y, axis=1) == np.argmax(y_hat, axis=1))\n",
    "    accuracy = accuracy.mean()\n",
    "    return accuracy"
   ]
  },
  {
   "cell_type": "markdown",
   "metadata": {},
   "source": [
    "## ミニバッチ確率的勾配降下法を体験しよう"
   ]
  },
  {
   "cell_type": "markdown",
   "metadata": {},
   "source": [
    "ミニバッチ確率的勾配降下法とは、訓練データをいくつかの小さいグループに分けて、グループ単位で繰り返し学習を行う手法です。\n",
    "\n",
    "例えば、１から１５の数字の配列があったとします。下のセルを実行してください。"
   ]
  },
  {
   "cell_type": "code",
   "execution_count": 49,
   "metadata": {
    "collapsed": false
   },
   "outputs": [
    {
     "name": "stdout",
     "output_type": "stream",
     "text": [
      "[ 1  2  3  4  5  6  7  8  9 10 11 12 13 14 15]\n"
     ]
    }
   ],
   "source": [
    "data_set = np.arange(1,16,1)\n",
    "print(data_set)"
   ]
  },
  {
   "cell_type": "markdown",
   "metadata": {},
   "source": [
    "全部で１５個の数字を先頭から3つのグループにわけ、１つのグループあたり５個のデータとします。\n",
    "\n",
    "- 全データ数１５\n",
    "- グループあたりのデータ数：５"
   ]
  },
  {
   "cell_type": "code",
   "execution_count": 50,
   "metadata": {
    "collapsed": true
   },
   "outputs": [],
   "source": [
    "sample_size = 15\n",
    "batch_size = 5"
   ]
  },
  {
   "cell_type": "markdown",
   "metadata": {},
   "source": [
    "このときのグループ単位でニューラルネットワークのモデルの学習を実行したいと考えた場合下記のようなコードを書くことができます。"
   ]
  },
  {
   "cell_type": "code",
   "execution_count": 51,
   "metadata": {
    "collapsed": false
   },
   "outputs": [
    {
     "name": "stdout",
     "output_type": "stream",
     "text": [
      "[1 2 3 4 5]\n",
      "[ 6  7  8  9 10]\n",
      "[11 12 13 14 15]\n"
     ]
    }
   ],
   "source": [
    "for i in range(0, sample_size, batch_size):\n",
    "    print(data_set[i:i+batch_size])"
   ]
  },
  {
   "cell_type": "markdown",
   "metadata": {},
   "source": [
    "一つ目のグループは１から５のデータが、二つ目のグループは６から１０のデータが、三つ目のグループは１１から１５のデータが、、\n",
    "\n",
    "といったように全データをいくつかのグループにわけて実行しています。\n",
    "\n",
    "またニューラルネットワークの学習では一般的に用意した訓練データを用いて繰り返しモデルの学習を行うため、繰り返し回数であるエポックを決める必要があります。"
   ]
  },
  {
   "cell_type": "code",
   "execution_count": 52,
   "metadata": {
    "collapsed": true
   },
   "outputs": [],
   "source": [
    "epochs = 3 #ここではエポックを３と定義"
   ]
  },
  {
   "cell_type": "markdown",
   "metadata": {},
   "source": [
    "下のセルを実行して同じデータを使って繰り返しデータを使うイメージを掴みましょう。"
   ]
  },
  {
   "cell_type": "code",
   "execution_count": 53,
   "metadata": {
    "collapsed": false
   },
   "outputs": [
    {
     "name": "stdout",
     "output_type": "stream",
     "text": [
      "1 回目の学習\n",
      "[1 2 3 4 5]\n",
      "[ 6  7  8  9 10]\n",
      "[11 12 13 14 15]\n",
      "2 回目の学習\n",
      "[1 2 3 4 5]\n",
      "[ 6  7  8  9 10]\n",
      "[11 12 13 14 15]\n",
      "3 回目の学習\n",
      "[1 2 3 4 5]\n",
      "[ 6  7  8  9 10]\n",
      "[11 12 13 14 15]\n"
     ]
    }
   ],
   "source": [
    "for _ in range(epochs):\n",
    "    print(_ + 1, \"回目の学習\")\n",
    "    for i in range(0, sample_size, batch_size):\n",
    "        print(data_set[i:i+batch_size])"
   ]
  },
  {
   "cell_type": "markdown",
   "metadata": {},
   "source": [
    "## ニューラルネットワークモデルの実装"
   ]
  },
  {
   "cell_type": "markdown",
   "metadata": {},
   "source": [
    "最後にニューラルネットワークのモデルを構築します。\n",
    "\n",
    "これまで学習してきたコードを参考に、それぞれ\"None\"となっている部分に書き込みましょう。\n",
    "\n",
    "本演習のニューラルネットワークのモデルでは、ミニバッチ確率的勾配降下法を実装しモデルの学習に取り組みます。\n",
    "\n",
    "<br>\n",
    "\n",
    "<div style=\"width:50%\">\n",
    "<img src=\"./img/nn_learn_cycle.png\"></div>"
   ]
  },
  {
   "cell_type": "markdown",
   "metadata": {},
   "source": [
    "**【課題１０】** ニューラルネットワークのモデル nn_model()を実装してください。\n",
    "\n",
    "**Note１:**\n",
    " - これまで学習してきたコードを使って、ニューラルネットワーク全体のモデルを実装します。\n",
    " - 1回目のfor文でエポック（epochs）がエポック処理を行う。\n",
    " - 2回目のfor文でミニバッチ（batch_size）を行う。\n",
    "\n",
    "**Note２:**\n",
    "\n",
    "関数 nn_model()に渡す引数は次の通りです。\n",
    " \n",
    "* X：訓練データ\n",
    "* y：訓練データの正解ラベル\n",
    "* X_test：テストデータ\n",
    "* y_test：テストデータの正解ラベル\n",
    "* input_size：入力層のユニット数\n",
    "* hidden_size：隠れ層のユニット数\n",
    "* output_size：出力層のユニット数\n",
    "* epochs：エポック\n",
    "* sample_size：全てのデータの数\n",
    "* batch_size：ミニバッチ学習のデータ数\n",
    "* learning_rate：学習率"
   ]
  },
  {
   "cell_type": "code",
   "execution_count": 54,
   "metadata": {
    "collapsed": true
   },
   "outputs": [],
   "source": [
    "# ニューラルネットワークのモデルを構築\n",
    "def nn_model(X, y, X_test,y_test, input_size, hidden_size, output_size, epochs, sample_size, batch_size, learning_rate,  print_cost=False):\n",
    "\n",
    "    # コスト/精度を記録するための配列\n",
    "    train_Data_cost = []\n",
    "    train_Data_acc = []\n",
    "    test_Data_cost = []\n",
    "    test_Data_acc = []\n",
    "    \n",
    "    #エポックのカウントとパラメータを初期化\n",
    "    count = 0    \n",
    "    W1,b1,W2,b2 = initialize_parameters(input_size, hidden_size, output_size)\n",
    "     \n",
    "    #エポック\n",
    "    for _ in range(epochs):\n",
    "        #ミニバッチ\n",
    "        for i in range(0, sample_size, batch_size):\n",
    "            \n",
    "             #########################START CODE HERE#########################\n",
    "            #ミニバッチ処理\n",
    "            X_batch = X[i:i+batch_size]\n",
    "            y_batch = y[i:i+batch_size]\n",
    "        \n",
    "            #フォワードプロパゲーション\n",
    "            layer1_z, layer1_a, layer2_z, layer2_a = forward_propagation(X_batch, W1,b1,W2, b2)\n",
    "            \n",
    "            #バックプロパゲーション\n",
    "            delta_W2, delta_b2, delta_W1, delta_b1 = backward_propagation(X_batch, y_batch, W2, layer1_z, layer1_a, layer2_z, layer2_a, batch_size)\n",
    "            \n",
    "            #パラメータの更新\n",
    "            W1, b1, W2, b2 = update_parameters(W1, b1, W2, b2, delta_W1, delta_b1, delta_W2, delta_b2, learning_rate)\n",
    "            ##########################END CODE HERE##########################\n",
    "\n",
    "        #訓練データのエポックごとのコスト値\n",
    "        train_output = forward_propagation(X, W1,b1,W2, b2)\n",
    "        train_cost = compute_cost(y, train_output[3], sample_size)\n",
    "        train_Data_cost.append(train_cost)\n",
    "        \n",
    "        #訓練データのエポックごとの精度\n",
    "        train_acc = accuracy(y, train_output[3])\n",
    "        train_Data_acc.append(train_acc)\n",
    "        \n",
    "        #テストデータのエポックごとのコスト値\n",
    "        test_output = forward_propagation(X_test, W1,b1,W2, b2)\n",
    "        test_cost = compute_cost(y_test, test_output[3], y_test.shape[0])\n",
    "        test_Data_cost.append(test_cost)\n",
    "        \n",
    "        #テストデータのエポックごとの精度\n",
    "        test_acc = accuracy(y_test, test_output[3])\n",
    "        test_Data_acc.append(test_acc)\n",
    "\n",
    "        #エポック数をカウント\n",
    "        count += 1\n",
    "        print('epochs：{0:.0f}'.format(int(count)), 'train cost：{0:.2f}'.format(train_cost),'train acc：{0:.2f}%'.format(train_acc*100))\n",
    "    \n",
    "    print(\"Leaning Done!!\")\n",
    "    \n",
    "    return train_Data_cost, train_Data_acc, test_Data_cost, test_Data_acc, W1, b1, W2, b2"
   ]
  },
  {
   "cell_type": "markdown",
   "metadata": {},
   "source": [
    "nn_model()に各パラメータを与え、学習を実行させます。ここではひとまず以下のとおりパラメータを設定します。\n",
    "- input_size = 784\n",
    "- hidden_size = 100\n",
    "- output_size = 10\n",
    "- epochs = 10\n",
    "- sample_size = 55000\n",
    "- batch_size = 55000\n",
    "- learning_rate = 0.01"
   ]
  },
  {
   "cell_type": "markdown",
   "metadata": {},
   "source": [
    "**パラメータの指定**"
   ]
  },
  {
   "cell_type": "code",
   "execution_count": 79,
   "metadata": {
    "collapsed": true
   },
   "outputs": [],
   "source": [
    "#パラメータの指定\n",
    "input_size = 784\n",
    "hidden_size = 100\n",
    "output_size = 10\n",
    "epochs = 10\n",
    "sample_size = 55000\n",
    "batch_size = 100\n",
    "learning_rate = 0.1"
   ]
  },
  {
   "cell_type": "markdown",
   "metadata": {},
   "source": [
    "以下のセルを実行するとモデルの学習がはじまります。"
   ]
  },
  {
   "cell_type": "code",
   "execution_count": 80,
   "metadata": {
    "collapsed": false
   },
   "outputs": [
    {
     "name": "stdout",
     "output_type": "stream",
     "text": [
      "epochs：1 train cost：0.18 train acc：94.42%\n",
      "epochs：2 train cost：0.13 train acc：96.09%\n",
      "epochs：3 train cost：0.10 train acc：96.91%\n",
      "epochs：4 train cost：0.08 train acc：97.47%\n",
      "epochs：5 train cost：0.07 train acc：97.89%\n",
      "epochs：6 train cost：0.06 train acc：98.22%\n",
      "epochs：7 train cost：0.05 train acc：98.50%\n",
      "epochs：8 train cost：0.05 train acc：98.70%\n",
      "epochs：9 train cost：0.04 train acc：98.87%\n",
      "epochs：10 train cost：0.04 train acc：99.03%\n",
      "Leaning Done!!\n"
     ]
    }
   ],
   "source": [
    "train_Data_cost, train_Data_acc, test_Data_cost, test_Data_acc, W1, b1, W2, b2 = \\\n",
    "nn_model(X_train, y_train, X_test, y_test, input_size, hidden_size, output_size, epochs, sample_size, batch_size, learning_rate, print_cost=True)"
   ]
  },
  {
   "cell_type": "markdown",
   "metadata": {},
   "source": [
    "本演習で用意した**テストデータにおける正解率が95%以上**でクリアとなります。\n",
    "\n",
    "テストデータの正解率を確かめるには下のセルを実行してください。"
   ]
  },
  {
   "cell_type": "code",
   "execution_count": 81,
   "metadata": {
    "collapsed": false
   },
   "outputs": [
    {
     "name": "stdout",
     "output_type": "stream",
     "text": [
      "テストデータの正解率は97.21%\n"
     ]
    }
   ],
   "source": [
    "output = forward_propagation(X_test, W1, b1, W2, b2)\n",
    "acc = accuracy(y_test, output[3])\n",
    "print(\"テストデータの正解率は{}%\".format(acc*100))"
   ]
  },
  {
   "cell_type": "markdown",
   "metadata": {},
   "source": [
    "もしテストデータにおける正解率が95%に届いていない場合、パラメータを少し変更してみましょう。\n",
    "\n",
    "今回はバッチサイズ（batch_size）を55000で学習を進めてみました。\n",
    "\n",
    "一回の学習ですべての訓練データを使ったことになり、合計で１０回（エポック数）しかパラメータを更新したことになりません。\n",
    "\n",
    "もしかするとあまりいい学習結果を得ることができていないと思います。\n",
    "\n",
    "そこでバッチサイズを **100**に変えて改めて学習を進めてみてください。\n",
    "\n",
    "---\n",
    "\n",
    "１度のエポックで55回パラメータを更新したことになり、パラメータを何度も更新した結果かなり精度が高くなったと思います。\n",
    "\n",
    "ただしもっと精度を改善できそうです。\n",
    "\n",
    "---\n",
    "\n",
    "では最後に、学習率 **0.01** を **0.1** に変更した上で、改めて学習をスタートしてください。"
   ]
  },
  {
   "cell_type": "markdown",
   "metadata": {},
   "source": [
    "正解率が95%に届いていたら、学習後のパラメータを採点用に保存します。下のセルをそのまま実行してください。"
   ]
  },
  {
   "cell_type": "code",
   "execution_count": 82,
   "metadata": {
    "collapsed": false
   },
   "outputs": [],
   "source": [
    "#パラメータを保存\n",
    "import h5py\n",
    "with h5py.File('./learned_parameter/mnist_parameter_learned.h5', 'w') as f:\n",
    "    f.create_dataset('W1', data=W1)\n",
    "    f.create_dataset('b1', data=b1)\n",
    "    f.create_dataset('W2', data=W2)\n",
    "    f.create_dataset('b2', data=b2) "
   ]
  },
  {
   "cell_type": "markdown",
   "metadata": {},
   "source": [
    "下のセルで課題１０のニューラルネットワークモデルの採点関数を実行します。"
   ]
  },
  {
   "cell_type": "code",
   "execution_count": 83,
   "metadata": {
    "collapsed": true
   },
   "outputs": [],
   "source": [
    "#Coursedele-02 Step2 QuestionNumber24 d5f1815725c80cabfb652892b1aa1692\n",
    "def nn_model_mnist():\n",
    "    return"
   ]
  },
  {
   "cell_type": "markdown",
   "metadata": {},
   "source": [
    "**ファイルを保存後**、次のセルを実行（Shift+Enter）で採点を行います。"
   ]
  },
  {
   "cell_type": "code",
   "execution_count": 84,
   "metadata": {
    "collapsed": false
   },
   "outputs": [
    {
     "name": "stdout",
     "output_type": "stream",
     "text": [
      "Congratulations!\n",
      "We give you 10 points out of 10 points.\n",
      "\n"
     ]
    }
   ],
   "source": [
    "%%bash\n",
    "./validation_client.py dele-02 2 24 Step2_02.ipynb api.internal.zero2one.jp"
   ]
  },
  {
   "cell_type": "markdown",
   "metadata": {},
   "source": [
    "## コスト減少のグラフ"
   ]
  },
  {
   "cell_type": "markdown",
   "metadata": {},
   "source": [
    "訓練データとテストデータにおけるコスト関数の出力が最適化されてコストが減少していく様子をプロットする。"
   ]
  },
  {
   "cell_type": "code",
   "execution_count": 85,
   "metadata": {
    "collapsed": false
   },
   "outputs": [
    {
     "data": {
      "image/png": "[encoded data removed]",
      "text/plain": [
       "<matplotlib.figure.Figure at 0x7f14e8071b70>"
      ]
     },
     "metadata": {},
     "output_type": "display_data"
    }
   ],
   "source": [
    "plt.plot(train_Data_cost, c='b', label='train cost')\n",
    "plt.plot(test_Data_cost, c='r', label='test cost')\n",
    "plt.xlabel(\"epochs\")\n",
    "plt.ylabel(\"cost\")\n",
    "plt.legend()\n",
    "plt.show()"
   ]
  },
  {
   "cell_type": "markdown",
   "metadata": {},
   "source": [
    "## 学習精度のグラフ"
   ]
  },
  {
   "cell_type": "markdown",
   "metadata": {},
   "source": [
    "エポックごとに学習精度が向上していく様子をプロットする。"
   ]
  },
  {
   "cell_type": "code",
   "execution_count": 86,
   "metadata": {
    "collapsed": false
   },
   "outputs": [
    {
     "data": {
      "image/png": "[encoded data removed]",
      "text/plain": [
       "<matplotlib.figure.Figure at 0x7f14e828c048>"
      ]
     },
     "metadata": {},
     "output_type": "display_data"
    }
   ],
   "source": [
    "plt.plot(train_Data_acc, c='b', label='train accuracy')\n",
    "plt.plot(test_Data_acc, c='r', label='test accuracy')\n",
    "plt.xlabel(\"epochs\")\n",
    "plt.ylabel(\"accuracy\")\n",
    "plt.legend()\n",
    "plt.show()"
   ]
  },
  {
   "cell_type": "markdown",
   "metadata": {},
   "source": [
    "データをグラフにすることで次の改善点の示唆を学習結果から得ることができます。データは必ず可視化するようにしましょう。"
   ]
  },
  {
   "cell_type": "markdown",
   "metadata": {},
   "source": [
    "## 実際に予測してみる"
   ]
  },
  {
   "cell_type": "markdown",
   "metadata": {
    "collapsed": true
   },
   "source": [
    "最後に学習後のパラメータをモデルを使って、訓練データの精度を確認してみましょう。"
   ]
  },
  {
   "cell_type": "code",
   "execution_count": 87,
   "metadata": {
    "collapsed": false
   },
   "outputs": [
    {
     "name": "stdout",
     "output_type": "stream",
     "text": [
      "training accuracy: 0.99\n"
     ]
    }
   ],
   "source": [
    "hidden1 = np.dot(X_train, W1) + b1\n",
    "act1 = relu(hidden1)\n",
    "hidden2 = np.dot(act1, W2) + b2\n",
    "act2 = softmax(hidden2)\n",
    "predicted_class = np.argmax(act2, axis=1)\n",
    "predicted_class_y_train = np.argmax(y_train,axis=1)\n",
    "print ('training accuracy: %.2f' % (np.mean(predicted_class == predicted_class_y_train)))"
   ]
  },
  {
   "cell_type": "markdown",
   "metadata": {
    "collapsed": true
   },
   "source": [
    "次に、テストデータを使ってモデルの精度を確認してみましょう。"
   ]
  },
  {
   "cell_type": "code",
   "execution_count": 88,
   "metadata": {
    "collapsed": false
   },
   "outputs": [
    {
     "name": "stdout",
     "output_type": "stream",
     "text": [
      "test accuracy: 0.97\n"
     ]
    }
   ],
   "source": [
    "hidden1 = np.dot(X_test, W1) + b1\n",
    "act1 = relu(hidden1)\n",
    "hidden2 = np.dot(act1, W2) + b2\n",
    "act2 = softmax(hidden2)\n",
    "predicted_class = np.argmax(act2, axis=1)\n",
    "predicted_class_y_test = np.argmax(y_test,axis=1)\n",
    "print ('test accuracy: %.2f' % (np.mean(predicted_class == predicted_class_y_test)))"
   ]
  },
  {
   "cell_type": "markdown",
   "metadata": {},
   "source": [
    "訓練データとテストデータの精度を比較するとどちらも大差はあまりみられなかったと思います。\n",
    "\n",
    "汎化性能は高く良いモデルを構築することができたと考えることができそうです。"
   ]
  },
  {
   "cell_type": "markdown",
   "metadata": {
    "collapsed": true
   },
   "source": [
    "## おつかれさまでした。"
   ]
  },
  {
   "cell_type": "markdown",
   "metadata": {
    "collapsed": true
   },
   "source": [
    "Great Job!!\n",
    "\n",
    "以上で手書き数字の画像を分類するニューラルネットワークの実装はおしまいです。\n",
    "\n",
    "これまでのレッスンを完璧にマスターすることができていれば、ニューラルネットワークの基礎は抑えることができています。\n",
    "\n",
    "お気付きの方もいらっしゃると思いますが、これまでの演習を通してXORのデータからMNISTの画像のデータを扱いました。\n",
    "\n",
    "基本的なモデルの実装方法にあまり違いはなかったと思います。\n",
    "\n",
    "違ったのは１桁のデータセット数から万単位のデータセット数といったデータの変化による、ニューラルネットワークのモデルの構造のみです。\n",
    "\n",
    "また、演習では課題以外にも様々なコードを実行していただきました。\n",
    "\n",
    "どれも有用なコードになっていると思いますので、きちんと使えるようになっておいてください。"
   ]
  },
  {
   "cell_type": "code",
   "execution_count": null,
   "metadata": {
    "collapsed": true
   },
   "outputs": [],
   "source": []
  },
  {
   "cell_type": "code",
   "execution_count": null,
   "metadata": {
    "collapsed": true
   },
   "outputs": [],
   "source": []
  }
 ],
 "metadata": {
  "anaconda-cloud": {},
  "kernelspec": {
   "display_name": "Python [default]",
   "language": "python",
   "name": "python3"
  },
  "language_info": {
   "codemirror_mode": {
    "name": "ipython",
    "version": 3
   },
   "file_extension": ".py",
   "mimetype": "text/x-python",
   "name": "python",
   "nbconvert_exporter": "python",
   "pygments_lexer": "ipython3",
   "version": "3.5.2"
  },
  "toc": {
   "nav_menu": {
    "height": "408px",
    "width": "252px"
   },
   "navigate_menu": true,
   "number_sections": true,
   "sideBar": true,
   "threshold": 4,
   "toc_cell": false,
   "toc_section_display": "block",
   "toc_window_display": true
  }
 },
 "nbformat": 4,
 "nbformat_minor": 2
}
